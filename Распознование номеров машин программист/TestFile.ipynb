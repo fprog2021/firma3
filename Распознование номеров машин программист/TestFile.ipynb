{
 "cells": [
  {
   "cell_type": "code",
   "execution_count": null,
   "id": "3be49468",
   "metadata": {},
   "outputs": [],
   "source": [
    "print(\"Hello world\")"
   ]
  },
  {
   "cell_type": "code",
   "execution_count": null,
   "id": "cff2f9d3",
   "metadata": {},
   "outputs": [],
   "source": [
    "A = int(input(\"Первая сторона: \"))\n",
    "B = int(input(\"Вторая сторона: \"))\n",
    "C = int(input(\"Третья сторона: \"))\n",
    "\n",
    "print(\"P треугольника: \", A + B + C)"
   ]
  },
  {
   "cell_type": "code",
   "execution_count": null,
   "id": "9e35a59e",
   "metadata": {},
   "outputs": [],
   "source": [
    "A = int(input(\"Первая сторона: \"))\n",
    "B = int(input(\"Вторая сторона: \"))\n",
    "C = int(input(\"Третья сторона: \"))\n",
    "\n",
    "if A >= B and A >= B and B >= C:\n",
    "    print(C, B, A)\n",
    "elif B >= A and B > C and A >= C:\n",
    "     print(C, A, B)\n",
    "elif C >= A and C > B  and A >= B:\n",
    "     print(B, A, C)\n",
    "elif A >= B and A > C and C >= B:\n",
    "     print(B, C, A)\n",
    "elif B >= A and B > C and C >= A:\n",
    "     print(A, C, B)\n",
    "elif C >= A and C > B  and B >= A:\n",
    "    print(A, B, C)\n",
    "\n",
    "\n"
   ]
  },
  {
   "cell_type": "code",
   "execution_count": null,
   "id": "500477e2",
   "metadata": {},
   "outputs": [],
   "source": [
    "Num = 0\n",
    "while True:\n",
    "    Num += 3\n",
    "    if Num < 100:\n",
    "        \n",
    "        print(Num)\n",
    "    else:\n",
    "        break"
   ]
  },
  {
   "cell_type": "code",
   "execution_count": null,
   "id": "d1af047c",
   "metadata": {},
   "outputs": [],
   "source": [
    "Catet1 = int(input(\"Длина первого катета: \"))\n",
    "Catet2 = int(input(\"Длина второго катета: \"))\n",
    "\n",
    "print(\"Длина гипотенузы треугольника: \", Catet1 ** 2 + Catet2 ** 2)"
   ]
  },
  {
   "cell_type": "code",
   "execution_count": 2,
   "id": "d542ed81",
   "metadata": {},
   "outputs": [
    {
     "name": "stdout",
     "output_type": "stream",
     "text": [
      "Лиц обнаружено: 1\n",
      "Лиц обнаружено: 1\n",
      "Лиц обнаружено: 0\n",
      "Лиц обнаружено: 2\n",
      "Лиц обнаружено: 1\n",
      "Лиц обнаружено: 1\n",
      "Лиц обнаружено: 0\n",
      "Лиц обнаружено: 0\n",
      "Лиц обнаружено: 0\n",
      "Лиц обнаружено: 0\n",
      "Лиц обнаружено: 1\n"
     ]
    },
    {
     "ename": "error",
     "evalue": "OpenCV(4.5.2) ..\\modules\\imgproc\\src\\color.cpp:182: error: (-215:Assertion failed) !_src.empty() in function 'cv::cvtColor'\n",
     "output_type": "error",
     "traceback": [
      "\u001b[1;31m---------------------------------------------------------------------------\u001b[0m",
      "\u001b[1;31merror\u001b[0m                                     Traceback (most recent call last)",
      "\u001b[1;32m<ipython-input-2-6fc9766563b9>\u001b[0m in \u001b[0;36m<module>\u001b[1;34m\u001b[0m\n\u001b[0;32m     15\u001b[0m     \u001b[0mface_cascade\u001b[0m \u001b[1;33m=\u001b[0m \u001b[0mcv2\u001b[0m\u001b[1;33m.\u001b[0m\u001b[0mCascadeClassifier\u001b[0m\u001b[1;33m(\u001b[0m\u001b[1;34m'Plate.xml'\u001b[0m\u001b[1;33m)\u001b[0m\u001b[1;33m\u001b[0m\u001b[1;33m\u001b[0m\u001b[0m\n\u001b[0;32m     16\u001b[0m \u001b[1;33m\u001b[0m\u001b[0m\n\u001b[1;32m---> 17\u001b[1;33m     \u001b[0mgray2\u001b[0m \u001b[1;33m=\u001b[0m \u001b[0mcv2\u001b[0m\u001b[1;33m.\u001b[0m\u001b[0mcvtColor\u001b[0m\u001b[1;33m(\u001b[0m\u001b[0mimage2\u001b[0m\u001b[1;33m,\u001b[0m \u001b[0mcv2\u001b[0m\u001b[1;33m.\u001b[0m\u001b[0mCOLOR_BGR2GRAY\u001b[0m\u001b[1;33m)\u001b[0m\u001b[1;33m\u001b[0m\u001b[1;33m\u001b[0m\u001b[0m\n\u001b[0m\u001b[0;32m     18\u001b[0m \u001b[1;33m\u001b[0m\u001b[0m\n\u001b[0;32m     19\u001b[0m     faces = face_cascade.detectMultiScale(\n",
      "\u001b[1;31merror\u001b[0m: OpenCV(4.5.2) ..\\modules\\imgproc\\src\\color.cpp:182: error: (-215:Assertion failed) !_src.empty() in function 'cv::cvtColor'\n"
     ]
    }
   ],
   "source": [
    "import cv2\n",
    "import os\n",
    "os.chdir('C://Users//IQ//TestFile')\n",
    "\n",
    "\n",
    "\n",
    "def viewImage(image, name_of_window):\n",
    "    cv2.namedWindow(name_of_window, cv2.WINDOW_NORMAL)\n",
    "    cv2.imshow(name_of_window, image)\n",
    "    cv2.waitKey(0)\n",
    "    cv2.destroyAllWindows()\n",
    "l = os.listdir()  \n",
    "for i in l:\n",
    "    if not i \"Plate.xml\":\n",
    "        image2 = cv2.imread(i)\n",
    "        face_cascade = cv2.CascadeClassifier('Plate.xml')\n",
    "\n",
    "        gray2 = cv2.cvtColor(image2, cv2.COLOR_BGR2GRAY)\n",
    "\n",
    "        faces = face_cascade.detectMultiScale(\n",
    "            gray2,\n",
    "            scaleFactor= 1.1,\n",
    "            minNeighbors= 5,\n",
    "            minSize=(100, 100)\n",
    "        )\n",
    "        faces_detected = \"Лиц обнаружено: \" + format(len(faces))\n",
    "        print(faces_detected)\n",
    "        # Рисуем квадраты вокруг лиц\n",
    "        for (x, y, w, h) in faces:\n",
    "            cv2.rectangle(gray2, (x, y), (x+w, y+h), (255, 255, ), 2)\n",
    "        viewImage(gray2,\"h\")"
   ]
  },
  {
   "cell_type": "code",
   "execution_count": 8,
   "id": "11b119f1",
   "metadata": {},
   "outputs": [
    {
     "name": "stdout",
     "output_type": "stream",
     "text": [
      "\n"
     ]
    }
   ],
   "source": [
    "import cv2 # добавить библеотеки\n",
    "import os\n",
    "import sys\n",
    "import numpy\n",
    " \n",
    "print()\n",
    "\n",
    "os.chdir('C://Users//IQ//TestFile')  # изменяем путь\n",
    "image = cv2.imread(\"a4da94u-960.jpg\")  # создаем переменную в которой будет хранится изображение\n",
    "\n",
    "def viewImage(image, name_of_window): # создаем функцию\n",
    "#     cv2.namedWindow(name_of_window, cv2.WINDOW_NORMAL)  \n",
    "    cv2.imshow(name_of_window, image) # открываем изображение\n",
    "    cv2.waitKey(0) # ждем пока не нажмем на кнопку\n",
    "    cv2.destroyAllWindows() # закрываем открытые программой окна\n",
    "\n",
    "viewImage(image, \"Image\")\n",
    "   # выводим стартовое изображение в окно\n",
    "\n"
   ]
  },
  {
   "cell_type": "code",
   "execution_count": 9,
   "id": "26d098ee",
   "metadata": {},
   "outputs": [],
   "source": [
    "resized = cv2.resize(image, (100,100), interpolation = cv2.INTER_AREA)    # изменяем размер\n",
    "viewImage(resized, \"resize\")                 # выводим изображение в окно\n",
    "    \n"
   ]
  },
  {
   "cell_type": "code",
   "execution_count": 10,
   "id": "3dc02fab",
   "metadata": {},
   "outputs": [],
   "source": [
    "blurred = cv2.GaussianBlur(image, (51, 51), 0) # добавить блюр\n",
    "viewImage(blurred, \"blur\")                   # выводим изображение в окно\n",
    "    "
   ]
  },
  {
   "cell_type": "code",
   "execution_count": 11,
   "id": "71db3fad",
   "metadata": {},
   "outputs": [],
   "source": [
    "Text = cv2.putText(image,                    # картинка\n",
    "                   \"Number: y946yy\",         # добавить текст\n",
    "                   (100, 100),               # верхний левый угол\n",
    "                   cv2.FONT_HERSHEY_SIMPLEX, # шрифт\n",
    "                   2,                        # размер\n",
    "                   (255, 255, 255),          # цвет\n",
    "                   10)                       # толщина линий\n",
    "# добавить текст\n",
    "\n",
    "viewImage(Text, \"text\")   # выводим изображение в окно\n",
    "\n"
   ]
  },
  {
   "cell_type": "code",
   "execution_count": 12,
   "id": "f11f8eab",
   "metadata": {},
   "outputs": [],
   "source": [
    "cut = image[300:800,                         # первая точка высоты:вторая точка высоты,\n",
    "            400:800]                         # первая точка ширины: вторая точка ширины\n",
    "# обрезать изображение\n",
    " \n",
    "viewImage(cut, \"cut\")     # выводим изображение в окно\n",
    "\n",
    "\n",
    "\n"
   ]
  },
  {
   "cell_type": "code",
   "execution_count": 13,
   "id": "5386e4aa",
   "metadata": {},
   "outputs": [
    {
     "name": "stdout",
     "output_type": "stream",
     "text": [
      "<class 'float'> 127.0\n"
     ]
    }
   ],
   "source": [
    "bgr_image = cv2.cvtColor(image, cv2.COLOR_RGB2BGR) # изменить тип цвета на BGR\n",
    "\n",
    "\n",
    "gray_image = cv2.cvtColor(bgr_image, cv2.COLOR_BGR2GRAY) # изменить цвет на серый\n",
    "viewImage(gray_image, \"gray\")  # выводим изображение в окно\n",
    "\n",
    "\n",
    "\n",
    "ret, threshold_image = cv2.threshold(gray_image, 127, 255, 0) # изменить цвет на черно-белый\n",
    "print(type(ret), ret)\n",
    "viewImage(threshold_image, \"White_black\")   # выводим изображение в окно\n",
    "\n",
    "\n",
    "\n"
   ]
  },
  {
   "cell_type": "code",
   "execution_count": 14,
   "id": "39af2a33",
   "metadata": {},
   "outputs": [],
   "source": [
    "\n",
    "contours, hierarchy = cv2.findContours(threshold_image, cv2.RETR_TREE, cv2.CHAIN_APPROX_SIMPLE)\n",
    "# находим контуры\n",
    "\n",
    "cv2.drawContours(image, contours, -1, (255,0,0), 3, cv2.LINE_AA, hierarchy, 1 )\n",
    "# отображаем контуры поверх изображения\n",
    "\n",
    "viewImage(image, \"borders\")   # выводим итоговое изображение в окно"
   ]
  },
  {
   "cell_type": "code",
   "execution_count": null,
   "id": "44061a10",
   "metadata": {},
   "outputs": [],
   "source": []
  }
 ],
 "metadata": {
  "kernelspec": {
   "display_name": "Python 3",
   "language": "python",
   "name": "python3"
  },
  "language_info": {
   "codemirror_mode": {
    "name": "ipython",
    "version": 3
   },
   "file_extension": ".py",
   "mimetype": "text/x-python",
   "name": "python",
   "nbconvert_exporter": "python",
   "pygments_lexer": "ipython3",
   "version": "3.9.5"
  }
 },
 "nbformat": 4,
 "nbformat_minor": 5
}
