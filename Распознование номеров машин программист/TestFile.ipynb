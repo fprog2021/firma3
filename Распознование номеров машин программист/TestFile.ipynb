{
 "cells": [
  {
   "cell_type": "code",
   "execution_count": null,
   "id": "3be49468",
   "metadata": {},
   "outputs": [],
   "source": [
    "print(\"Hello world\")"
   ]
  },
  {
   "cell_type": "code",
   "execution_count": null,
   "id": "cff2f9d3",
   "metadata": {},
   "outputs": [],
   "source": [
    "A = int(input(\"Первая сторона: \"))\n",
    "B = int(input(\"Вторая сторона: \"))\n",
    "C = int(input(\"Третья сторона: \"))\n",
    "\n",
    "print(\"P треугольника: \", A + B + C)"
   ]
  },
  {
   "cell_type": "code",
   "execution_count": null,
   "id": "9e35a59e",
   "metadata": {},
   "outputs": [],
   "source": [
    "A = int(input(\"Первая сторона: \"))\n",
    "B = int(input(\"Вторая сторона: \"))\n",
    "C = int(input(\"Третья сторона: \"))\n",
    "\n",
    "if A >= B and A >= B and B >= C:\n",
    "    print(C, B, A)\n",
    "elif B >= A and B > C and A >= C:\n",
    "     print(C, A, B)\n",
    "elif C >= A and C > B  and A >= B:\n",
    "     print(B, A, C)\n",
    "elif A >= B and A > C and C >= B:\n",
    "     print(B, C, A)\n",
    "elif B >= A and B > C and C >= A:\n",
    "     print(A, C, B)\n",
    "elif C >= A and C > B  and B >= A:\n",
    "    print(A, B, C)\n",
    "\n",
    "\n"
   ]
  },
  {
   "cell_type": "code",
   "execution_count": null,
   "id": "500477e2",
   "metadata": {},
   "outputs": [],
   "source": [
    "Num = 0\n",
    "while True:\n",
    "    Num += 3\n",
    "    if Num < 100:\n",
    "        \n",
    "        print(Num)\n",
    "    else:\n",
    "        break"
   ]
  },
  {
   "cell_type": "code",
   "execution_count": null,
   "id": "d1af047c",
   "metadata": {},
   "outputs": [],
   "source": [
    "Catet1 = int(input(\"Длина первого катета: \"))\n",
    "Catet2 = int(input(\"Длина второго катета: \"))\n",
    "\n",
    "print(\"Длина гипотенузы треугольника: \", Catet1 ** 2 + Catet2 ** 2)"
   ]
  },
  {
   "cell_type": "code",
   "execution_count": null,
   "id": "54790595",
   "metadata": {},
   "outputs": [],
   "source": [
    "import os\n",
    "print(os.getcwd())\n",
    "os.chdir('C://Users//IQ//Desktop')\n",
    "print(os.listdir())"
   ]
  },
  {
   "cell_type": "code",
   "execution_count": null,
   "id": "e32a0b7b",
   "metadata": {},
   "outputs": [],
   "source": [
    "import os\n",
    "\n",
    "os.chdir('C://Users//IQ//TestFile')\n",
    "\n",
    "l = os.listdir()\n",
    "print(l)\n"
   ]
  },
  {
   "cell_type": "code",
   "execution_count": null,
   "id": "d542ed81",
   "metadata": {},
   "outputs": [],
   "source": [
    "import cv2\n",
    "import os\n",
    "os.chdir('C://Users//IQ//TestFile')\n",
    "\n",
    "image = cv2.imread(\"4401.jpg\")\n",
    "\n",
    "def viewImage(image, name_of_window):\n",
    "    cv2.namedWindow(name_of_window, cv2.WINDOW_NORMAL)\n",
    "    cv2.imshow(name_of_window, image)\n",
    "    cv2.waitKey(0)\n",
    "    cv2.destroyAllWindows()\n",
    "    \n",
    "\n",
    "face_cascade = cv2.CascadeClassifier('Plate.xml')\n",
    "\n",
    "gray2 = cv2.cvtColor(image, cv2.COLOR_BGR2GRAY)\n",
    "\n",
    "faces = face_cascade.detectMultiScale(\n",
    "    gray2,\n",
    "    scaleFactor= 1.1,\n",
    "    minNeighbors= 5,\n",
    "    minSize=(100, 100)\n",
    ")\n",
    "faces_detected = \"Лиц обнаружено: \" + format(len(faces))\n",
    "print(faces_detected)\n",
    "# Рисуем квадраты вокруг лиц\n",
    "for (x, y, w, h) in faces:\n",
    "    cv2.rectangle(gray2, (x, y), (x+w, y+h), (255, 255, ), 2)\n",
    "viewImage(gray2,faces_detected)"
   ]
  },
  {
   "cell_type": "code",
   "execution_count": null,
   "id": "adc33b8e",
   "metadata": {},
   "outputs": [],
   "source": [
    "import cv2\n",
    "import os\n",
    "os.chdir('C://Users//IQ//TestFile')\n",
    "\n",
    "\n",
    "\n",
    "def viewImage(image, name_of_window):\n",
    "    cv2.namedWindow(name_of_window, cv2.WINDOW_NORMAL)\n",
    "    cv2.imshow(name_of_window, image)\n",
    "    cv2.waitKey(0)\n",
    "    cv2.destroyAllWindows()\n",
    "    \n",
    "l = os.listdir()\n",
    "for i in l:\n",
    "    image = cv2.imread(i)\n",
    "    cv2.cvtColor(image, cv2.COLOR_RGB2BGR)\n",
    "    face_cascade = cv2.CascadeClassifier('Plate.xml')\n",
    "    \n",
    "    gray = cv2.cvtColor(image, cv2.COLOR_BGR2GRAY)\n",
    "    ret, gray2 = cv2.threshold(gray, 120, 255, 0)\n",
    "\n",
    "    faces = face_cascade.detectMultiScale(\n",
    "        gray2,\n",
    "        scaleFactor= 1.1,\n",
    "        minNeighbors= 5,\n",
    "        minSize=(10, 10)\n",
    "    )\n",
    "    faces_detected = \"Лиц обнаружено: \" + format(len(faces))\n",
    "    print(faces_detected)\n",
    "    # Рисуем квадраты вокруг лиц\n",
    "    for (x, y, w, h) in faces:\n",
    "        cv2.rectangle(gray2, (x, y), (x+w, y+h), (255, 255, 0), 2)\n",
    "    viewImage(gray2,faces_detected)"
   ]
  },
  {
   "cell_type": "code",
   "execution_count": null,
   "id": "dadcc9a9",
   "metadata": {},
   "outputs": [],
   "source": [
    "import cv2\n",
    "import os\n",
    "\n",
    "os.chdir('C://Users//IQ//TestFile')\n",
    "\n",
    "l = os.listdir()\n",
    "\n",
    "for i in l:\n",
    "    image = cv2.imread(i)\n",
    "    \n",
    "    cv2.imshow(\"Image\", image)\n",
    "    cv2.waitKey(0)\n",
    "    cv2.destroyAllWindows()\n"
   ]
  },
  {
   "cell_type": "code",
   "execution_count": null,
   "id": "11b119f1",
   "metadata": {},
   "outputs": [],
   "source": [
    "import cv2\n",
    "import os\n",
    "import sys\n",
    "import numpy\n",
    "\n",
    "os.chdir('C://Users//IQ//TestFile')\n",
    "image = cv2.imread(\"a4da94u-960.jpg\")\n",
    "\n",
    "def viewImage(image, name_of_window):\n",
    "#     cv2.namedWindow(name_of_window, cv2.WINDOW_NORMAL)\n",
    "    cv2.imshow(name_of_window, image)\n",
    "    cv2.waitKey(0)\n",
    "    cv2.destroyAllWindows()\n",
    "\n",
    "print()\n",
    "viewImage(image, \"STart\")   # выводим стартовое изображение в окно\n",
    "\n"
   ]
  },
  {
   "cell_type": "code",
   "execution_count": null,
   "id": "f39cc4ae",
   "metadata": {},
   "outputs": [],
   "source": [
    "resized = cv2.resize(image, (100,100), interpolation = cv2.INTER_AREA)    # изменяем размер\n",
    "viewImage(resized, \"resize\")                 # выводим изображение в окно\n",
    "    \n"
   ]
  },
  {
   "cell_type": "code",
   "execution_count": null,
   "id": "216a2bc2",
   "metadata": {},
   "outputs": [],
   "source": [
    "blurred = cv2.GaussianBlur(image, (51, 51), 0) # добавить блюр\n",
    "viewImage(blurred, \"blur\")                   # выводим изображение в окно\n",
    "    "
   ]
  },
  {
   "cell_type": "code",
   "execution_count": null,
   "id": "b59e3bf8",
   "metadata": {},
   "outputs": [],
   "source": [
    "Text = cv2.putText(image,                    # картинка\n",
    "                   \"Number: y946yy\",         # добавить текст\n",
    "                   (100, 100),               # верхний левый угол\n",
    "                   cv2.FONT_HERSHEY_SIMPLEX, # шрифт\n",
    "                   2,                        # размер\n",
    "                   (255, 255, 255),          # цвет\n",
    "                   10)                       # толщина линий\n",
    "# добавить текст\n",
    "\n",
    "viewImage(Text, \"text\")   # выводим изображение в окно\n",
    "\n"
   ]
  },
  {
   "cell_type": "code",
   "execution_count": null,
   "id": "41531741",
   "metadata": {},
   "outputs": [],
   "source": [
    "cut = image[300:800,                         # первая точка высоты:вторая точка высоты,\n",
    "            400:800]                         # первая точка ширины: вторая точка ширины\n",
    "# обрезать изображение\n",
    " \n",
    "viewImage(cut, \"cut\")     # выводим изображение в окно\n",
    "\n",
    "\n",
    "\n"
   ]
  },
  {
   "cell_type": "code",
   "execution_count": null,
   "id": "3a5329ca",
   "metadata": {},
   "outputs": [],
   "source": [
    "bgr_image = cv2.cvtColor(image, cv2.COLOR_RGB2BGR) # изменить тип цвета на BGR\n",
    "\n",
    "\n",
    "gray_image = cv2.cvtColor(bgr_image, cv2.COLOR_BGR2GRAY) # изменить цвет на серый\n",
    "viewImage(gray_image, \"gray\")  # выводим изображение в окно\n",
    "\n",
    "\n",
    "\n",
    "ret, threshold_image = cv2.threshold(gray_image, 127, 255, 0) # изменить цвет на черно-белый\n",
    "print(type(ret), ret)\n",
    "viewImage(threshold_image, \"White_black\")   # выводим изображение в окно\n",
    "\n",
    "\n",
    "\n"
   ]
  },
  {
   "cell_type": "code",
   "execution_count": null,
   "id": "39af2a33",
   "metadata": {},
   "outputs": [],
   "source": [
    "\n",
    "contours, hierarchy = cv2.findContours(threshold_image, cv2.RETR_TREE, cv2.CHAIN_APPROX_SIMPLE)\n",
    "# находим контуры\n",
    "\n",
    "cv2.drawContours(image, contours, -1, (255,0,0), 3, cv2.LINE_AA, hierarchy, 1 )\n",
    "# отображаем контуры поверх изображения\n",
    "\n",
    "viewImage(image, \"borders\")   # выводим итоговое изображение в окно"
   ]
  },
  {
   "cell_type": "code",
   "execution_count": null,
   "id": "5e7d0e56",
   "metadata": {},
   "outputs": [],
   "source": []
  }
 ],
 "metadata": {
  "kernelspec": {
   "display_name": "Python 3",
   "language": "python",
   "name": "python3"
  },
  "language_info": {
   "codemirror_mode": {
    "name": "ipython",
    "version": 3
   },
   "file_extension": ".py",
   "mimetype": "text/x-python",
   "name": "python",
   "nbconvert_exporter": "python",
   "pygments_lexer": "ipython3",
   "version": "3.9.5"
  }
 },
 "nbformat": 4,
 "nbformat_minor": 5
}
